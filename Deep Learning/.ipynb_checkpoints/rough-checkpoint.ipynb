{
 "cells": [
  {
   "cell_type": "code",
   "execution_count": null,
   "metadata": {},
   "outputs": [],
   "source": [
    "import tensorflow as tf\n",
    "import numpy as np"
   ]
  },
  {
   "cell_type": "code",
   "execution_count": null,
   "metadata": {},
   "outputs": [],
   "source": [
    "ln = 4 # number of layers\n",
    "n = [3, 5, 4, 2, 1] # number of units in each layer\n",
    "nx = 3\n",
    "a = [] # activation functions\n",
    "L = None # loss function\n",
    "z1 = w1a0 + b1 # compute regression value\n",
    "a1 = g(z1) # apply activation function\n",
    "z2 = w2a1 + b2\n",
    "a2 = g(z2)\n",
    "z3 = w3a2 + b3\n",
    "a3 = g(z3)\n",
    "z4 = w4a3 + b4\n",
    "yhat = g(z4)\n",
    "\n",
    "# vactorize way\n",
    "for i in range(n):\n",
    "    Z[i] = w[i] * A[i-1] + b[i]\n",
    "    A[i] = g(Z[i])\n",
    "    \n",
    "\n",
    "      \n",
    "# Dimensions for single example \n",
    "z = wx + b # dimension will be (n[l], 1)\n",
    "w = np.random.randn(n[l], n[l-1]) # w must be in dimensions of (n[l], n[l-1])\n",
    "a = g(z) # dimenstion will be (n[l], 1)\n",
    "X = None # dimension will be (n[l-1], 1)\n",
    "b = np.random.zeros((n[l], 1)) # b must be in dimensions of (n[l], 1)\n",
    "dw = None # w must be in dimensions of (n[l], n[l+1])\n",
    "db = None # b must be in dimensions of (n[l], 1)\n",
    "\n",
    "# Dimensions for vectorize implementation\n",
    "Z = wX + b # dimension will be (n[l], m) (must be cached per layer)\n",
    "A = g(Z) # dimenstion will be (n[l], m)\n",
    "w = np.random.randn(n[l], n[l-1]) # w must be in dimensions of (n[l], n[l-1])\n",
    "X = None # dimension will be (n[l-1], m)\n",
    "b = np.random.zeros((n[l], 1)) # b must be in dimensions of (n[l], 1)\n",
    "dz[l] = w[l+1].T * dz[l+1] * g[l]'(z[l])\n",
    "dw = dz[l] * a[l-1] # w must be in dimensions of (n[l], n[l+1])\n",
    "db = 1/m(np.sum(dz[l], axis=1, keepdims=True) # b must be in dimensions of (n[l], 1)\n",
    "da[l-1] = w[l].T * dz[l]\n",
    "\n",
    "#new w \n",
    "w[l] = w[l] - learning_rate * dw[l]\n",
    "b[l] = b[l] - learning_rate * db[l]\n",
    "\n",
    "# hyperparameters\n",
    "# learning rate, iterations, hidden layers, hidden units in layer, choice of activation function"
   ]
  },
  {
   "cell_type": "code",
   "execution_count": null,
   "metadata": {},
   "outputs": [],
   "source": []
  }
 ],
 "metadata": {
  "kernelspec": {
   "display_name": "Python 3",
   "language": "python",
   "name": "python3"
  },
  "language_info": {
   "codemirror_mode": {
    "name": "ipython",
    "version": 3
   },
   "file_extension": ".py",
   "mimetype": "text/x-python",
   "name": "python",
   "nbconvert_exporter": "python",
   "pygments_lexer": "ipython3",
   "version": "3.5.2"
  }
 },
 "nbformat": 4,
 "nbformat_minor": 2
}
